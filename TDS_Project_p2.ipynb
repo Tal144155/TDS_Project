{
 "cells": [
  {
   "cell_type": "markdown",
   "metadata": {},
   "source": [
    "- log on the revenue value to make it normal.\n",
    "- dataset size is too small (5k instead of 50k).\n",
    "- not using all of our features / using them partly.\n",
    "\n",
    "\n",
    "\n",
    "Weaknesses:\n",
    "- distribution of the data\n",
    "- we were left with small dataset \n",
    "- there are not many movies with high revenue as compared to low revenue.\n",
    "- because there are many low revenue movies that have not a lot of info they are harder to predict.\n",
    "- using partial data.\n",
    "\n",
    "\n",
    "- transaction algorithem - making the revenue into buckets and calculating the avrage bucket each cast member falls into. (Brad Pitt has many high revenue movies for example)\n",
    "\n",
    "\n",
    "improvemenets:\n",
    "-cast to revenue \"grade\"\n",
    "-prod company to revenue \"grade\"\n",
    "-normlize data\n",
    "- maybe look at the time of year a movie is released in (maybe around the holidays movies earn more)\n",
    "- consider using overvie\n",
    "- use data that has budget 0 but revenue != 0 . we'll look at the revenue of all the movies with budget 0 and see how they look. maybe use LLM (chatGPT)"
   ]
  }
 ],
 "metadata": {
  "language_info": {
   "name": "python"
  }
 },
 "nbformat": 4,
 "nbformat_minor": 2
}
